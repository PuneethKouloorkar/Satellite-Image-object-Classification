{
  "nbformat": 4,
  "nbformat_minor": 0,
  "metadata": {
    "colab": {
      "name": "LiveEo Data Science Challenge - Puneeth.ipynb",
      "provenance": [],
      "collapsed_sections": [],
      "toc_visible": true
    },
    "kernelspec": {
      "name": "python3",
      "display_name": "Python 3"
    },
    "accelerator": "GPU"
  },
  "cells": [
    {
      "cell_type": "markdown",
      "metadata": {
        "id": "NRbgdY7uZSrK"
      },
      "source": [
        "#LiveEo Data Science Challenge\r\n",
        "###Author: Puneeth Kouloorkar\r\n",
        "###Email: puneek95@zedat.fu-berlin.de"
      ]
    },
    {
      "cell_type": "markdown",
      "metadata": {
        "id": "S-5RQ4tlSNtX"
      },
      "source": [
        "Sentinel-2 image data is given with one of the image with labels. There are 7 different classes in the labelled data marked with integers 0 to 6 referring to different objects (urban, treerow, forest, etc). \r\n",
        "\r\n",
        "To explore the dataset, rasterio library is used. The task is to train a classifier that recognizes the different labelled objects.\r\n",
        "\r\n",
        "The follwing tasks are conducted in this order:\r\n",
        "\r\n",
        "\r\n",
        "\r\n",
        "*   Exploring the dataset with rasterio\r\n",
        "*   Finding the distribution of labels in the labelled image\r\n",
        "*   Building the classifier and evaluating it on the test data\r\n",
        "*   Conducting Chi-squared test to know the relation between each class\r\n",
        "\r\n",
        "The S-2 images are obtained from: [S-2 images](https://drive.google.com/drive/folders/1wKu6fzz-cTZK22YBUqTa9o-u6HiT4-7h)\r\n",
        " and the labelled image is obtained from here: [Labelled image](https://drive.google.com/file/d/1YnLzVHauu1tRp5dWCd3VBScG4nCTVH1t/view)\r\n",
        "\r\n"
      ]
    },
    {
      "cell_type": "markdown",
      "metadata": {
        "id": "pSCgmp6kIFHK"
      },
      "source": [
        "Access to GPU in Colab - Colab is preferred here over Jupyter notebook to access the GPU:\r\n"
      ]
    },
    {
      "cell_type": "code",
      "metadata": {
        "colab": {
          "base_uri": "https://localhost:8080/"
        },
        "id": "M-2K8El27LOj",
        "outputId": "adf0a9a4-fee1-450e-c186-9844ce2e695f"
      },
      "source": [
        "!nvidia-smi"
      ],
      "execution_count": null,
      "outputs": [
        {
          "output_type": "stream",
          "text": [
            "Wed Jan 13 19:30:44 2021       \n",
            "+-----------------------------------------------------------------------------+\n",
            "| NVIDIA-SMI 460.27.04    Driver Version: 418.67       CUDA Version: 10.1     |\n",
            "|-------------------------------+----------------------+----------------------+\n",
            "| GPU  Name        Persistence-M| Bus-Id        Disp.A | Volatile Uncorr. ECC |\n",
            "| Fan  Temp  Perf  Pwr:Usage/Cap|         Memory-Usage | GPU-Util  Compute M. |\n",
            "|                               |                      |               MIG M. |\n",
            "|===============================+======================+======================|\n",
            "|   0  Tesla T4            Off  | 00000000:00:04.0 Off |                    0 |\n",
            "| N/A   72C    P0    33W /  70W |   2295MiB / 15079MiB |      0%      Default |\n",
            "|                               |                      |                 ERR! |\n",
            "+-------------------------------+----------------------+----------------------+\n",
            "                                                                               \n",
            "+-----------------------------------------------------------------------------+\n",
            "| Processes:                                                                  |\n",
            "|  GPU   GI   CI        PID   Type   Process name                  GPU Memory |\n",
            "|        ID   ID                                                   Usage      |\n",
            "|=============================================================================|\n",
            "|  No running processes found                                                 |\n",
            "+-----------------------------------------------------------------------------+\n"
          ],
          "name": "stdout"
        }
      ]
    },
    {
      "cell_type": "markdown",
      "metadata": {
        "id": "0u5urqbaH7Gb"
      },
      "source": [
        "Installing rasterio in colab:"
      ]
    },
    {
      "cell_type": "code",
      "metadata": {
        "colab": {
          "base_uri": "https://localhost:8080/"
        },
        "id": "v30fBAy7DzNq",
        "outputId": "78c64152-2885-40d5-fc4f-e2a8f2601fe9"
      },
      "source": [
        "!pip install rasterio"
      ],
      "execution_count": null,
      "outputs": [
        {
          "output_type": "stream",
          "text": [
            "Requirement already satisfied: rasterio in /usr/local/lib/python3.6/dist-packages (1.1.8)\n",
            "Requirement already satisfied: numpy in /usr/local/lib/python3.6/dist-packages (from rasterio) (1.19.5)\n",
            "Requirement already satisfied: click-plugins in /usr/local/lib/python3.6/dist-packages (from rasterio) (1.1.1)\n",
            "Requirement already satisfied: click<8,>=4.0 in /usr/local/lib/python3.6/dist-packages (from rasterio) (7.1.2)\n",
            "Requirement already satisfied: snuggs>=1.4.1 in /usr/local/lib/python3.6/dist-packages (from rasterio) (1.4.7)\n",
            "Requirement already satisfied: attrs in /usr/local/lib/python3.6/dist-packages (from rasterio) (20.3.0)\n",
            "Requirement already satisfied: cligj>=0.5 in /usr/local/lib/python3.6/dist-packages (from rasterio) (0.7.1)\n",
            "Requirement already satisfied: affine in /usr/local/lib/python3.6/dist-packages (from rasterio) (2.3.0)\n",
            "Requirement already satisfied: pyparsing>=2.1.6 in /usr/local/lib/python3.6/dist-packages (from snuggs>=1.4.1->rasterio) (2.4.7)\n"
          ],
          "name": "stdout"
        }
      ]
    },
    {
      "cell_type": "markdown",
      "metadata": {
        "id": "dwStMPPDIIvL"
      },
      "source": [
        "Importing all the required libraries:"
      ]
    },
    {
      "cell_type": "code",
      "metadata": {
        "id": "Ez0zUexSb5PJ"
      },
      "source": [
        "import rasterio\r\n",
        "import matplotlib.pyplot as plt\r\n",
        "from rasterio.plot import show\r\n",
        "import numpy as np\r\n",
        "import pandas as pd\r\n",
        "import xgboost as xgb\r\n",
        "from sklearn.metrics import confusion_matrix, classification_report, f1_score\r\n",
        "import seaborn as sns\r\n",
        "from scipy.stats import chisquare\r\n",
        "from sklearn.model_selection import train_test_split\r\n",
        "from scipy.stats import pearsonr"
      ],
      "execution_count": null,
      "outputs": []
    },
    {
      "cell_type": "markdown",
      "metadata": {
        "id": "NfrfbPeiq_hE"
      },
      "source": [
        "### 1. Exploring S-2 satellite bands data:"
      ]
    },
    {
      "cell_type": "markdown",
      "metadata": {
        "id": "L7pdBwjQjyb4"
      },
      "source": [
        "1.1 Properties of one of the S-2 satellite bands. The bands are preprocessed already, so we can directly explore now:"
      ]
    },
    {
      "cell_type": "code",
      "metadata": {
        "colab": {
          "base_uri": "https://localhost:8080/"
        },
        "id": "yV47VViKb-MN",
        "outputId": "74305544-4ee2-47a8-cda2-482b1ea9e44b"
      },
      "source": [
        "def dataset_explorer(path):\r\n",
        "    with rasterio.open(path) as src:\r\n",
        "        print(f\"Width: {src.width}, Height: {src.height}\")\r\n",
        "        print(f\"Coordinate Reference Systems: {src.crs}\")\r\n",
        "        print(f\"Affine Transformation Matrix: {src.transform}\")\r\n",
        "        print(f\"Number of bands: {src.count}\")\r\n",
        "        print(f\"Indexes of bands: {src.indexes}\")\r\n",
        "\r\n",
        "path_S_2_data = '/content/drive/MyDrive/LiveEo/T17SLD_20190922T203454_AOT_10m.tif'\r\n",
        "dataset_explorer(path_S_2_data)"
      ],
      "execution_count": null,
      "outputs": [
        {
          "output_type": "stream",
          "text": [
            "Width: 10980, Height: 10980\n",
            "Coordinate Reference Systems: EPSG:32617\n",
            "Affine Transformation Matrix: | 10.00, 0.00, 300000.00|\n",
            "| 0.00,-10.00, 4400040.00|\n",
            "| 0.00, 0.00, 1.00|\n",
            "Number of bands: 1\n",
            "Indexes of bands: (1,)\n"
          ],
          "name": "stdout"
        }
      ]
    },
    {
      "cell_type": "markdown",
      "metadata": {
        "id": "ekqRYzFvkCyY"
      },
      "source": [
        "1.2 As Rasterio reads raster data into numpy arrays, we can plot it with matplotlib:"
      ]
    },
    {
      "cell_type": "code",
      "metadata": {
        "id": "dvJx907PcD1k"
      },
      "source": [
        "def raster_to_numpy(path):\r\n",
        "    src = rasterio.open(path)\r\n",
        "    array = src.read(1)     # The first band of the image is read and converted into numpy array\r\n",
        "    return array\r\n",
        "\r\n",
        "array = raster_to_numpy(path_S_2_data)\r\n",
        "#plt.figure(figsize=(20,10))\r\n",
        "#plt.imshow(array, cmap='pink')"
      ],
      "execution_count": null,
      "outputs": []
    },
    {
      "cell_type": "markdown",
      "metadata": {
        "id": "Kn1s5A0uIY24"
      },
      "source": [
        "1.3 Finding unique elements in **array** variable and also the frequency of unique elements:"
      ]
    },
    {
      "cell_type": "code",
      "metadata": {
        "colab": {
          "base_uri": "https://localhost:8080/"
        },
        "id": "uwvrT866r0eP",
        "outputId": "923f6a0b-2afe-4542-a438-f4e7844c4727"
      },
      "source": [
        "def unique_and_frequency(numpy_array):\r\n",
        "    unique_elements, count_unique_elements = np.unique(np.ravel(numpy_array), return_counts=True)\r\n",
        "    return unique_elements, count_unique_elements\r\n",
        "\r\n",
        "unique_elements, count_unique_elements = unique_and_frequency(array)\r\n",
        "print(unique_elements)\r\n",
        "print(count_unique_elements)"
      ],
      "execution_count": null,
      "outputs": [
        {
          "output_type": "stream",
          "text": [
            "[   68    69    70    71    72    73    74    75 65535]\n",
            "[     1068    137384    230586       214       192       157        91\n",
            "       551 120190157]\n"
          ],
          "name": "stdout"
        }
      ]
    },
    {
      "cell_type": "markdown",
      "metadata": {
        "id": "GFNMU5cjrUI_"
      },
      "source": [
        "## 2. Exploring labelled data:"
      ]
    },
    {
      "cell_type": "code",
      "metadata": {
        "colab": {
          "base_uri": "https://localhost:8080/"
        },
        "id": "MMKh3JS-nDPW",
        "outputId": "c174026e-cf30-4054-efbe-0ccafa215c61"
      },
      "source": [
        "path_labelled_data = '/content/drive/MyDrive/LiveEo/rasterize_on_sentinel_2_labelled_17SLD.tif'\r\n",
        "dataset_explorer(path_labelled_data)"
      ],
      "execution_count": null,
      "outputs": [
        {
          "output_type": "stream",
          "text": [
            "Width: 10980, Height: 10980\n",
            "Coordinate Reference Systems: EPSG:32617\n",
            "Affine Transformation Matrix: | 10.00, 0.00, 300000.00|\n",
            "| 0.00,-10.00, 4400040.00|\n",
            "| 0.00, 0.00, 1.00|\n",
            "Number of bands: 2\n",
            "Indexes of bands: (1, 2)\n"
          ],
          "name": "stdout"
        }
      ]
    },
    {
      "cell_type": "markdown",
      "metadata": {
        "id": "cJGfWjitra_w"
      },
      "source": [
        "2.1 Plotting the first band (as required) using matplotlib"
      ]
    },
    {
      "cell_type": "code",
      "metadata": {
        "id": "HCGyNbOssKnX"
      },
      "source": [
        "array_labelled = raster_to_numpy(path_labelled_data)\r\n",
        "#plt.figure(figsize=(20,10))\r\n",
        "#plt.imshow(array_labelled, cmap='pink')"
      ],
      "execution_count": null,
      "outputs": []
    },
    {
      "cell_type": "markdown",
      "metadata": {
        "id": "I7oKXXDB3nsO"
      },
      "source": [
        "2.2 To check if all the elements are same in a numpy array:"
      ]
    },
    {
      "cell_type": "code",
      "metadata": {
        "colab": {
          "base_uri": "https://localhost:8080/"
        },
        "id": "JvYE3iXW3SEZ",
        "outputId": "e5372c93-6c47-474d-a29a-627c7af2bad6"
      },
      "source": [
        "flatten_array_labelled = np.ravel(array_labelled)     # Converting the array into a vector\r\n",
        "np.all(array_labelled==flatten_array_labelled[0])     # Checking if all the elements of the vector are same"
      ],
      "execution_count": null,
      "outputs": [
        {
          "output_type": "execute_result",
          "data": {
            "text/plain": [
              "False"
            ]
          },
          "metadata": {
            "tags": []
          },
          "execution_count": 46
        }
      ]
    },
    {
      "cell_type": "markdown",
      "metadata": {
        "id": "vlrwjuOmIugr"
      },
      "source": [
        "2.3 Finding unique elements in **array_labelled** variable and also the frequency of unique elements:"
      ]
    },
    {
      "cell_type": "code",
      "metadata": {
        "colab": {
          "base_uri": "https://localhost:8080/"
        },
        "id": "qg68qF4D4MXD",
        "outputId": "38f3cb08-47cd-44ab-9297-ce51fa79a262"
      },
      "source": [
        "unique_elements_labelled, count_unique_elements_labelled = unique_and_frequency(flatten_array_labelled)\r\n",
        "print(unique_elements_labelled)\r\n",
        "print(count_unique_elements_labelled)"
      ],
      "execution_count": null,
      "outputs": [
        {
          "output_type": "stream",
          "text": [
            "[         0          1          2          3          4          5\n",
            "          6 4294967295]\n",
            "[    19088      7188    153017       166     93879      7566     45487\n",
            " 120234009]\n"
          ],
          "name": "stdout"
        }
      ]
    },
    {
      "cell_type": "markdown",
      "metadata": {
        "id": "eH7KwhO3I_tM"
      },
      "source": [
        "2.3 Distribution of class labels in the labelled image (excluding element 4294967295):"
      ]
    },
    {
      "cell_type": "code",
      "metadata": {
        "colab": {
          "base_uri": "https://localhost:8080/",
          "height": 285
        },
        "id": "RV0uAPp54jxk",
        "outputId": "3f2242c5-7008-4b53-b3de-251a821eec45"
      },
      "source": [
        "plt.bar(unique_elements_labelled[:-1], height = count_unique_elements_labelled[:-1])     # PLotting a bar chart. The x-axis has the labels and y-axis is the frequency of labels."
      ],
      "execution_count": null,
      "outputs": [
        {
          "output_type": "execute_result",
          "data": {
            "text/plain": [
              "<BarContainer object of 7 artists>"
            ]
          },
          "metadata": {
            "tags": []
          },
          "execution_count": 48
        },
        {
          "output_type": "display_data",
          "data": {
            "image/png": "[encoded data removed]",
            "text/plain": [
              "<Figure size 432x288 with 1 Axes>"
            ]
          },
          "metadata": {
            "tags": [],
            "needs_background": "light"
          }
        }
      ]
    },
    {
      "cell_type": "markdown",
      "metadata": {
        "id": "idj04fRQJUXM"
      },
      "source": [
        "### 3. Preprocessing of data before training:"
      ]
    },
    {
      "cell_type": "markdown",
      "metadata": {
        "id": "418HJnDZJao0"
      },
      "source": [
        "3.1 As required, let's exclude the value 4294967295 from the data:\r\n",
        "Previously the input matrix was of te dimension 10,980 x 10,980. After removing rows and columns with all the values as \"4294967295\" we end up with a smaller matrix of dimension 7324 x 6482."
      ]
    },
    {
      "cell_type": "code",
      "metadata": {
        "id": "fGEzlpKjktwJ"
      },
      "source": [
        "df = pd.DataFrame(array_labelled)     # Converting numpy array to a dataframe                          \r\n",
        "df = df.replace(to_replace=4294967295, value=np.NaN)   # Replacing the element 4294967295 with NaN for easier pre-processing using Pandas Dataframes"
      ],
      "execution_count": null,
      "outputs": []
    },
    {
      "cell_type": "code",
      "metadata": {
        "colab": {
          "base_uri": "https://localhost:8080/"
        },
        "id": "T_kgcL3Ulniv",
        "outputId": "2ab745e3-d496-405e-973c-cbb0514a3b61"
      },
      "source": [
        "df = df.dropna(how='all', axis = 0)     # Removing all the rows with only NaN elements\r\n",
        "df = df.dropna(how='all', axis = 1)     # Removing all the columns with only NaN elements\r\n",
        "print(df)"
      ],
      "execution_count": null,
      "outputs": [
        {
          "output_type": "stream",
          "text": [
            "       0      1      2      3      4      ...  10963  10964  10965  10966  10967\n",
            "31       NaN    NaN    NaN    NaN    NaN  ...    NaN    NaN    NaN    NaN    NaN\n",
            "32       NaN    NaN    NaN    NaN    NaN  ...    NaN    NaN    NaN    NaN    NaN\n",
            "33       NaN    NaN    NaN    NaN    NaN  ...    NaN    NaN    NaN    NaN    NaN\n",
            "34       NaN    NaN    NaN    NaN    NaN  ...    NaN    NaN    NaN    NaN    NaN\n",
            "35       NaN    NaN    NaN    NaN    NaN  ...    NaN    NaN    NaN    NaN    NaN\n",
            "...      ...    ...    ...    ...    ...  ...    ...    ...    ...    ...    ...\n",
            "10959    NaN    NaN    NaN    NaN    NaN  ...    NaN    NaN    NaN    NaN    NaN\n",
            "10966    NaN    NaN    NaN    NaN    NaN  ...    NaN    NaN    NaN    NaN    NaN\n",
            "10967    NaN    NaN    NaN    NaN    NaN  ...    NaN    NaN    NaN    NaN    NaN\n",
            "10971    NaN    NaN    NaN    NaN    NaN  ...    NaN    NaN    NaN    NaN    NaN\n",
            "10976    NaN    NaN    NaN    NaN    NaN  ...    NaN    NaN    NaN    NaN    NaN\n",
            "\n",
            "[7324 rows x 6482 columns]\n"
          ],
          "name": "stdout"
        }
      ]
    },
    {
      "cell_type": "markdown",
      "metadata": {
        "id": "SYKWBTM9KFZj"
      },
      "source": [
        "3.2 Extract row and column indices of labels (given as pixel values):"
      ]
    },
    {
      "cell_type": "code",
      "metadata": {
        "id": "kePOegCH2xKR"
      },
      "source": [
        "result = df[df >= 0].stack().index.tolist()     # Extracting the row and column indices of non-NaN elements\r\n",
        "result = np.asarray(result)     # Converting the list to NumPy array\r\n",
        "\r\n",
        "answer = df[df >= 0].stack().values.tolist()     # Extracting the labels from dataframe \r\n",
        "true_labels = np.array([int(value) for value in answer])     # Converting the labels from float to int"
      ],
      "execution_count": null,
      "outputs": []
    },
    {
      "cell_type": "code",
      "metadata": {
        "id": "iJy8W6ny5Of9",
        "colab": {
          "base_uri": "https://localhost:8080/",
          "height": 197
        },
        "outputId": "76737db1-2d10-43cc-c652-ae616cff0869"
      },
      "source": [
        "X_1 = result[:,0]\r\n",
        "X_2 = result[:,1]\r\n",
        "\r\n",
        "df_final = pd.DataFrame({'X_1':X_1, 'X_2':X_2, 'Y':true_labels})     # Creating a dataframe with row indices, column indices and labels \r\n",
        "df_final.head()"
      ],
      "execution_count": null,
      "outputs": [
        {
          "output_type": "execute_result",
          "data": {
            "text/html": [
              "<div>\n",
              "<style scoped>\n",
              "    .dataframe tbody tr th:only-of-type {\n",
              "        vertical-align: middle;\n",
              "    }\n",
              "\n",
              "    .dataframe tbody tr th {\n",
              "        vertical-align: top;\n",
              "    }\n",
              "\n",
              "    .dataframe thead th {\n",
              "        text-align: right;\n",
              "    }\n",
              "</style>\n",
              "<table border=\"1\" class=\"dataframe\">\n",
              "  <thead>\n",
              "    <tr style=\"text-align: right;\">\n",
              "      <th></th>\n",
              "      <th>X_1</th>\n",
              "      <th>X_2</th>\n",
              "      <th>Y</th>\n",
              "    </tr>\n",
              "  </thead>\n",
              "  <tbody>\n",
              "    <tr>\n",
              "      <th>0</th>\n",
              "      <td>31</td>\n",
              "      <td>10533</td>\n",
              "      <td>3</td>\n",
              "    </tr>\n",
              "    <tr>\n",
              "      <th>1</th>\n",
              "      <td>32</td>\n",
              "      <td>3154</td>\n",
              "      <td>0</td>\n",
              "    </tr>\n",
              "    <tr>\n",
              "      <th>2</th>\n",
              "      <td>32</td>\n",
              "      <td>3155</td>\n",
              "      <td>0</td>\n",
              "    </tr>\n",
              "    <tr>\n",
              "      <th>3</th>\n",
              "      <td>32</td>\n",
              "      <td>3156</td>\n",
              "      <td>0</td>\n",
              "    </tr>\n",
              "    <tr>\n",
              "      <th>4</th>\n",
              "      <td>32</td>\n",
              "      <td>3157</td>\n",
              "      <td>0</td>\n",
              "    </tr>\n",
              "  </tbody>\n",
              "</table>\n",
              "</div>"
            ],
            "text/plain": [
              "   X_1    X_2  Y\n",
              "0   31  10533  3\n",
              "1   32   3154  0\n",
              "2   32   3155  0\n",
              "3   32   3156  0\n",
              "4   32   3157  0"
            ]
          },
          "metadata": {
            "tags": []
          },
          "execution_count": 52
        }
      ]
    },
    {
      "cell_type": "markdown",
      "metadata": {
        "id": "_4_QhBXbbHBm"
      },
      "source": [
        "XG Boost is preferred here than other classiciation algorithms, as the label distribution reveals, we have an imbalanced dataset. So, boosting performs well with these type of datasets. \r\n",
        "\r\n",
        "Also there are lots of opportunities to further fine-tune the hyperparameters and model regularizers to obtain a good overall fitmet of the model."
      ]
    },
    {
      "cell_type": "code",
      "metadata": {
        "colab": {
          "base_uri": "https://localhost:8080/",
          "height": 197
        },
        "id": "jQw8R2Y3-Qdk",
        "outputId": "035436c5-cfce-4a50-d57c-0901ffad2fe7"
      },
      "source": [
        "X, y = df_final.iloc[:,:2], df_final.iloc[:,2]     # X_1 and X_2 are put into one X to facilitate splitting of data into train and test\r\n",
        "X.head()"
      ],
      "execution_count": null,
      "outputs": [
        {
          "output_type": "execute_result",
          "data": {
            "text/html": [
              "<div>\n",
              "<style scoped>\n",
              "    .dataframe tbody tr th:only-of-type {\n",
              "        vertical-align: middle;\n",
              "    }\n",
              "\n",
              "    .dataframe tbody tr th {\n",
              "        vertical-align: top;\n",
              "    }\n",
              "\n",
              "    .dataframe thead th {\n",
              "        text-align: right;\n",
              "    }\n",
              "</style>\n",
              "<table border=\"1\" class=\"dataframe\">\n",
              "  <thead>\n",
              "    <tr style=\"text-align: right;\">\n",
              "      <th></th>\n",
              "      <th>X_1</th>\n",
              "      <th>X_2</th>\n",
              "    </tr>\n",
              "  </thead>\n",
              "  <tbody>\n",
              "    <tr>\n",
              "      <th>0</th>\n",
              "      <td>31</td>\n",
              "      <td>10533</td>\n",
              "    </tr>\n",
              "    <tr>\n",
              "      <th>1</th>\n",
              "      <td>32</td>\n",
              "      <td>3154</td>\n",
              "    </tr>\n",
              "    <tr>\n",
              "      <th>2</th>\n",
              "      <td>32</td>\n",
              "      <td>3155</td>\n",
              "    </tr>\n",
              "    <tr>\n",
              "      <th>3</th>\n",
              "      <td>32</td>\n",
              "      <td>3156</td>\n",
              "    </tr>\n",
              "    <tr>\n",
              "      <th>4</th>\n",
              "      <td>32</td>\n",
              "      <td>3157</td>\n",
              "    </tr>\n",
              "  </tbody>\n",
              "</table>\n",
              "</div>"
            ],
            "text/plain": [
              "   X_1    X_2\n",
              "0   31  10533\n",
              "1   32   3154\n",
              "2   32   3155\n",
              "3   32   3156\n",
              "4   32   3157"
            ]
          },
          "metadata": {
            "tags": []
          },
          "execution_count": 53
        }
      ]
    },
    {
      "cell_type": "markdown",
      "metadata": {
        "id": "1RAh6JxkQhq7"
      },
      "source": [
        "3.3 Split the data into train and test:"
      ]
    },
    {
      "cell_type": "code",
      "metadata": {
        "colab": {
          "base_uri": "https://localhost:8080/"
        },
        "id": "f4FbaedI_Xro",
        "outputId": "145794b4-2104-40b4-fcee-c14cd14f0cd5"
      },
      "source": [
        "jdata_dmatrix = xgb.DMatrix(data=X,label=y)\r\n",
        "\r\n",
        "X_train, X_test, y_train, y_test = train_test_split(X, y, test_size=0.2, random_state=567)     # Splitting the data into 80% train and 20% test\r\n",
        "\r\n",
        "unique_and_frequency(y_train)"
      ],
      "execution_count": null,
      "outputs": [
        {
          "output_type": "execute_result",
          "data": {
            "text/plain": [
              "(array([0, 1, 2, 3, 4, 5, 6]),\n",
              " array([ 15246,   5763, 122274,    130,  75108,   6051,  36540]))"
            ]
          },
          "metadata": {
            "tags": []
          },
          "execution_count": 54
        }
      ]
    },
    {
      "cell_type": "markdown",
      "metadata": {
        "id": "4O2mz5_NQv2e"
      },
      "source": [
        "3.4 Build the XG Boost clssifier model:\r\n",
        "Since we are working with a multi-class classification problem, we utilize the XGB Classifier model with a Softmax probability as the objective/loss function."
      ]
    },
    {
      "cell_type": "markdown",
      "metadata": {
        "id": "qcdpZsAOf_gv"
      },
      "source": [
        "We use small L1 (Alpha) and L2 (Lambda) regularization penalty to force our model to assign equal model weights during training/prevent from larger weights getting accumulated. Also, L1 helps the model as a feature selector to achieve fine-tuned results."
      ]
    },
    {
      "cell_type": "code",
      "metadata": {
        "id": "_aZpwfbr_eCP"
      },
      "source": [
        "TREE_METHOD = 'gpu_hist'     # Training the model on GPU\r\n",
        "\r\n",
        "xg_reg = xgb.XGBClassifier(tree_method = TREE_METHOD, objective ='multi:softmax', colsample_bytree = 0.3, learning_rate = 0.1, max_depth = 20, alpha = 10, n_estimators = 10, reg_lambda = 5, reg_alpha = 10)     # Building the model with softmax output"
      ],
      "execution_count": null,
      "outputs": []
    },
    {
      "cell_type": "markdown",
      "metadata": {
        "id": "09hk7roQQ6Pv"
      },
      "source": [
        "3.5 Fit the model on the training data:"
      ]
    },
    {
      "cell_type": "code",
      "metadata": {
        "colab": {
          "base_uri": "https://localhost:8080/"
        },
        "id": "mZk-ZOBGAVqh",
        "outputId": "b4ec7c9c-ec5d-4820-8958-474b6a0c3112"
      },
      "source": [
        "xg_reg.fit(X_train,y_train)     # Fitting the model on the training data"
      ],
      "execution_count": null,
      "outputs": [
        {
          "output_type": "execute_result",
          "data": {
            "text/plain": [
              "XGBClassifier(alpha=10, base_score=0.5, booster='gbtree', colsample_bylevel=1,\n",
              "              colsample_bynode=1, colsample_bytree=0.3, gamma=0,\n",
              "              learning_rate=0.1, max_delta_step=0, max_depth=20,\n",
              "              min_child_weight=1, missing=None, n_estimators=10, n_jobs=1,\n",
              "              nthread=None, objective='multi:softprob', random_state=0,\n",
              "              reg_alpha=10, reg_lambda=5, scale_pos_weight=1, seed=None,\n",
              "              silent=None, subsample=1, tree_method='gpu_hist', verbosity=1)"
            ]
          },
          "metadata": {
            "tags": []
          },
          "execution_count": 56
        }
      ]
    },
    {
      "cell_type": "markdown",
      "metadata": {
        "id": "PhVFPdrWQ_Tk"
      },
      "source": [
        "3.6 Predict the tet data with the trained model:"
      ]
    },
    {
      "cell_type": "code",
      "metadata": {
        "id": "pnjY7OqeBIKm"
      },
      "source": [
        "preds = xg_reg.predict(X_test)     # Evaluating the trained model on testing data"
      ],
      "execution_count": null,
      "outputs": []
    },
    {
      "cell_type": "markdown",
      "metadata": {
        "id": "sxy2kBJJRErx"
      },
      "source": [
        "Now we compute the overall model Accuracy and other evaluation metrics such as Precision, Recall, F1-measure (Micro & Macro).\r\n",
        "Since we see that atleast some of the classes (eg: 3) are not very well populated when compared to their counterparts. Thus a Macro value of all the above mentioned metrics would be the right evaluation metric in this problem."
      ]
    },
    {
      "cell_type": "markdown",
      "metadata": {
        "id": "6FIeN_VZRNH6"
      },
      "source": [
        "3.7 Calculate the overall accurcy, precision, recall and f-1 scores and plot the confusion matrix to look at the mislassifications in each class:"
      ]
    },
    {
      "cell_type": "code",
      "metadata": {
        "colab": {
          "base_uri": "https://localhost:8080/",
          "height": 785
        },
        "id": "oDxtatHmCIAE",
        "outputId": "4fcedf2f-067b-43d6-9739-f674b73b252c"
      },
      "source": [
        "print('Overall accuracy of the model: {}\\n'.format(np.mean(preds == y_test.to_numpy())))     # Accuracy of classifications\r\n",
        "\r\n",
        "classification_report_overall = classification_report(y_test, preds)     # Gives precision, recall and f-1 score\r\n",
        "print(classification_report_overall)\r\n",
        "\r\n",
        "cfn_mtx = confusion_matrix(y_test, preds)     # creating a confusion matrix of true labels and predicted labels\r\n",
        "final_df = pd.DataFrame(cfn_mtx, range(7), range(7))     # Plotting the built confusion matrix\r\n",
        "plt.figure(figsize = (10,7))\r\n",
        "sns.heatmap(final_df, annot=True)"
      ],
      "execution_count": null,
      "outputs": [
        {
          "output_type": "stream",
          "text": [
            "Overall accuracy of the model: 0.8546393173915041\n",
            "\n",
            "              precision    recall  f1-score   support\n",
            "\n",
            "           0       0.84      0.81      0.82      3842\n",
            "           1       0.88      0.25      0.40      1425\n",
            "           2       0.87      0.94      0.90     30743\n",
            "           3       0.00      0.00      0.00        36\n",
            "           4       0.82      0.83      0.83     18771\n",
            "           5       0.65      0.21      0.32      1515\n",
            "           6       0.90      0.83      0.86      8947\n",
            "\n",
            "    accuracy                           0.85     65279\n",
            "   macro avg       0.71      0.55      0.59     65279\n",
            "weighted avg       0.85      0.85      0.85     65279\n",
            "\n"
          ],
          "name": "stdout"
        },
        {
          "output_type": "stream",
          "text": [
            "/usr/local/lib/python3.6/dist-packages/sklearn/metrics/_classification.py:1272: UndefinedMetricWarning: Precision and F-score are ill-defined and being set to 0.0 in labels with no predicted samples. Use `zero_division` parameter to control this behavior.\n",
            "  _warn_prf(average, modifier, msg_start, len(result))\n"
          ],
          "name": "stderr"
        },
        {
          "output_type": "execute_result",
          "data": {
            "text/plain": [
              "<matplotlib.axes._subplots.AxesSubplot at 0x7f639c093cf8>"
            ]
          },
          "metadata": {
            "tags": []
          },
          "execution_count": 58
        },
        {
          "output_type": "display_data",
          "data": {
            "image/png": "[encoded data removed]",
            "text/plain": [
              "<Figure size 720x504 with 2 Axes>"
            ]
          },
          "metadata": {
            "tags": [],
            "needs_background": "light"
          }
        }
      ]
    },
    {
      "cell_type": "markdown",
      "metadata": {
        "id": "NidUARtARlZQ"
      },
      "source": [
        "### 4. Statistical tests for relations between each class and each band of labelled image:"
      ]
    },
    {
      "cell_type": "markdown",
      "metadata": {
        "id": "KQVVQyfVE1L0"
      },
      "source": [
        "We use Chi-square statistical test because the variable 'true_labels' is a categorical variable with 7 categories (0 to 6) and this test returns two values: 1. chi square and 2. p value. We know that lower p-value means that we can reject the null hypothesis and indicate that there exists corelation between classes."
      ]
    },
    {
      "cell_type": "code",
      "metadata": {
        "colab": {
          "base_uri": "https://localhost:8080/"
        },
        "id": "RGqAEPgtdG8K",
        "outputId": "4a4c383e-dd8b-4893-f3c6-5431c6faf42c"
      },
      "source": [
        "chi_result = np.zeros([len(true_labels), 4])\r\n",
        "\r\n",
        "for i in range(0, len(true_labels)-1):\r\n",
        "    chi = chisquare(np.array([result[i, 0], result[i, 1]]), np.array([result[i+1, 0], result[i+1, 1]]))     # Chi-square test of the i^th and (i+1)^th row  \r\n",
        "    chi_result[i,0] = true_labels[i]\r\n",
        "    chi_result[i,1] = true_labels[i+1]\r\n",
        "    chi_result[i,2] = chi[0]     # Chi² value\r\n",
        "    chi_result[i,3] = chi[1]     # p value\r\n",
        "\r\n",
        "# The first and second column of chi_result contains label values, third and fourth column contain corresponding chi-square and p values "
      ],
      "execution_count": null,
      "outputs": [
        {
          "output_type": "stream",
          "text": [
            "/usr/local/lib/python3.6/dist-packages/scipy/stats/stats.py:5745: RuntimeWarning: divide by zero encountered in true_divide\n",
            "  terms = (f_obs - f_exp)**2 / f_exp\n"
          ],
          "name": "stderr"
        }
      ]
    },
    {
      "cell_type": "markdown",
      "metadata": {
        "id": "pwMjvaZXpdwd"
      },
      "source": [
        "4.1 \"temp\" matrix below is just created to be used in the next cell to plot corelation matrix"
      ]
    },
    {
      "cell_type": "code",
      "metadata": {
        "colab": {
          "base_uri": "https://localhost:8080/"
        },
        "id": "g-H6QBPM5wUx",
        "outputId": "d432811b-a244-4751-eb87-0ba8b398afc1"
      },
      "source": [
        "temp = np.zeros([21,2])\r\n",
        "temp[:6,1] = np.array([1,2,3,4,5,6])\r\n",
        "temp[6:11,0], temp[6:11,1] = np.array([1,1,1,1,1]), np.array([2,3,4,5,6])\r\n",
        "temp[11:15,0], temp[11:15,1] = np.array([2,2,2,2]), np.array([3,4,5,6])\r\n",
        "temp[15:18,0], temp[15:18,1] = np.array([3,3,3]), np.array([4,5,6])\r\n",
        "temp[18:20,0], temp[18:20,1] = np.array([4,4]), np.array([5,6])\r\n",
        "temp[20,0], temp[20,1] = np.array([5]), np.array([6])\r\n",
        "temp"
      ],
      "execution_count": null,
      "outputs": [
        {
          "output_type": "execute_result",
          "data": {
            "text/plain": [
              "array([[0., 1.],\n",
              "       [0., 2.],\n",
              "       [0., 3.],\n",
              "       [0., 4.],\n",
              "       [0., 5.],\n",
              "       [0., 6.],\n",
              "       [1., 2.],\n",
              "       [1., 3.],\n",
              "       [1., 4.],\n",
              "       [1., 5.],\n",
              "       [1., 6.],\n",
              "       [2., 3.],\n",
              "       [2., 4.],\n",
              "       [2., 5.],\n",
              "       [2., 6.],\n",
              "       [3., 4.],\n",
              "       [3., 5.],\n",
              "       [3., 6.],\n",
              "       [4., 5.],\n",
              "       [4., 6.],\n",
              "       [5., 6.]])"
            ]
          },
          "metadata": {
            "tags": []
          },
          "execution_count": 60
        }
      ]
    },
    {
      "cell_type": "markdown",
      "metadata": {
        "id": "gl61GDNgp1E2"
      },
      "source": [
        "4.2 Now that we have p values of pair of classes in \"chi_result\", now these p values of pair of classes (eg: 0 and 1 & also 1 and 0) are averaged to get the final p value between those pair of classes. "
      ]
    },
    {
      "cell_type": "code",
      "metadata": {
        "id": "QdLdytdpxqRg"
      },
      "source": [
        "corel = np.zeros([6,6])\r\n",
        "\r\n",
        "for j in range(temp.shape[0]):\r\n",
        "    sum = 0\r\n",
        "    count = 0\r\n",
        "    for i in range(chi_result.shape[0]):\r\n",
        "        if (chi_result[i,0] == temp[j,0] and chi_result[i,1] == temp[j,1]) or (chi_result[i,0] == temp[j,1] and chi_result[i,1] == temp[j,0]):\r\n",
        "            sum += chi_result[i,-1]\r\n",
        "            count += 1\r\n",
        "    corel[int(temp[j,0]), int(temp[j,1])-1] = sum/count\r\n",
        "    #print('p value between class {} and class {}: {}'.format(int(temp[j,0]), int(temp[j,1]), sum/count))\r\n",
        "\r\n",
        "corel[corel==0]=np.nan     # Replace 0's with NaN's\r\n",
        "\r\n",
        "df_corel = pd.DataFrame(corel)\r\n",
        "df_corel.columns = ['1','2','3','4','5','6']"
      ],
      "execution_count": null,
      "outputs": []
    },
    {
      "cell_type": "markdown",
      "metadata": {
        "id": "vJ7VNpb4FYNj"
      },
      "source": [
        "4.3 Let's look at the averaged p value between the classes in the form of a table. The index column has classes from 0 to 5 and column names are classes from 0 to 6. NaN represents that we already know the p value between those classes (eg: we know that the p value between class i and class i is 0 and between class i and class j, it's already computed as p value between class j and class i):"
      ]
    },
    {
      "cell_type": "code",
      "metadata": {
        "colab": {
          "base_uri": "https://localhost:8080/",
          "height": 227
        },
        "id": "wxV71I-gEqaw",
        "outputId": "3262f6fb-aa9e-43cf-b7b5-c92f8e0dd441"
      },
      "source": [
        "df_corel     # Indices are classes from 0 to 5 and column names are classes from 0 to 6"
      ],
      "execution_count": null,
      "outputs": [
        {
          "output_type": "execute_result",
          "data": {
            "text/html": [
              "<div>\n",
              "<style scoped>\n",
              "    .dataframe tbody tr th:only-of-type {\n",
              "        vertical-align: middle;\n",
              "    }\n",
              "\n",
              "    .dataframe tbody tr th {\n",
              "        vertical-align: top;\n",
              "    }\n",
              "\n",
              "    .dataframe thead th {\n",
              "        text-align: right;\n",
              "    }\n",
              "</style>\n",
              "<table border=\"1\" class=\"dataframe\">\n",
              "  <thead>\n",
              "    <tr style=\"text-align: right;\">\n",
              "      <th></th>\n",
              "      <th>1</th>\n",
              "      <th>2</th>\n",
              "      <th>3</th>\n",
              "      <th>4</th>\n",
              "      <th>5</th>\n",
              "      <th>6</th>\n",
              "    </tr>\n",
              "  </thead>\n",
              "  <tbody>\n",
              "    <tr>\n",
              "      <th>0</th>\n",
              "      <td>0.002157</td>\n",
              "      <td>0.093736</td>\n",
              "      <td>1.256884e-158</td>\n",
              "      <td>5.406213e-60</td>\n",
              "      <td>3.701754e-27</td>\n",
              "      <td>2.429364e-03</td>\n",
              "    </tr>\n",
              "    <tr>\n",
              "      <th>1</th>\n",
              "      <td>NaN</td>\n",
              "      <td>0.072322</td>\n",
              "      <td>1.121584e-01</td>\n",
              "      <td>3.525751e-01</td>\n",
              "      <td>1.680611e-01</td>\n",
              "      <td>6.252209e-02</td>\n",
              "    </tr>\n",
              "    <tr>\n",
              "      <th>2</th>\n",
              "      <td>NaN</td>\n",
              "      <td>NaN</td>\n",
              "      <td>1.876039e-01</td>\n",
              "      <td>2.396949e-01</td>\n",
              "      <td>3.112426e-01</td>\n",
              "      <td>5.067962e-04</td>\n",
              "    </tr>\n",
              "    <tr>\n",
              "      <th>3</th>\n",
              "      <td>NaN</td>\n",
              "      <td>NaN</td>\n",
              "      <td>NaN</td>\n",
              "      <td>2.121787e-01</td>\n",
              "      <td>4.187521e-01</td>\n",
              "      <td>6.764974e-03</td>\n",
              "    </tr>\n",
              "    <tr>\n",
              "      <th>4</th>\n",
              "      <td>NaN</td>\n",
              "      <td>NaN</td>\n",
              "      <td>NaN</td>\n",
              "      <td>NaN</td>\n",
              "      <td>2.053240e-01</td>\n",
              "      <td>1.841785e-02</td>\n",
              "    </tr>\n",
              "    <tr>\n",
              "      <th>5</th>\n",
              "      <td>NaN</td>\n",
              "      <td>NaN</td>\n",
              "      <td>NaN</td>\n",
              "      <td>NaN</td>\n",
              "      <td>NaN</td>\n",
              "      <td>7.682067e-11</td>\n",
              "    </tr>\n",
              "  </tbody>\n",
              "</table>\n",
              "</div>"
            ],
            "text/plain": [
              "          1         2              3             4             5             6\n",
              "0  0.002157  0.093736  1.256884e-158  5.406213e-60  3.701754e-27  2.429364e-03\n",
              "1       NaN  0.072322   1.121584e-01  3.525751e-01  1.680611e-01  6.252209e-02\n",
              "2       NaN       NaN   1.876039e-01  2.396949e-01  3.112426e-01  5.067962e-04\n",
              "3       NaN       NaN            NaN  2.121787e-01  4.187521e-01  6.764974e-03\n",
              "4       NaN       NaN            NaN           NaN  2.053240e-01  1.841785e-02\n",
              "5       NaN       NaN            NaN           NaN           NaN  7.682067e-11"
            ]
          },
          "metadata": {
            "tags": []
          },
          "execution_count": 62
        }
      ]
    },
    {
      "cell_type": "markdown",
      "metadata": {
        "id": "7WITViv1Ja1U"
      },
      "source": [
        "4.4 Pearson's test to relate the two bands of the labelled image. We can see that the two arrays (array of band 1 and band 2) are positively correlated and that the correlation is 0.999999. This suggests a high level of correlation."
      ]
    },
    {
      "cell_type": "code",
      "metadata": {
        "colab": {
          "base_uri": "https://localhost:8080/"
        },
        "id": "jvtsxuqFbbTQ",
        "outputId": "2500005e-071a-41f2-e343-0cd9b872e22e"
      },
      "source": [
        "array_labelled_data = rasterio.open('/content/drive/MyDrive/LiveEo/rasterize_on_sentinel_2_labelled_17SLD.tif')\r\n",
        "array_band_1 = array_labelled_data.read(1)\r\n",
        "array_band_2 = array_labelled_data.read(2)\r\n",
        "pear = pearsonr(np.ravel(array_band_1), np.ravel(array_band_2))\r\n",
        "print(pear)  "
      ],
      "execution_count": null,
      "outputs": [
        {
          "output_type": "stream",
          "text": [
            "(0.9999999999330815, 0.0)\n"
          ],
          "name": "stdout"
        }
      ]
    },
    {
      "cell_type": "code",
      "metadata": {
        "id": "dfIOW15OEc-C"
      },
      "source": [
        ""
      ],
      "execution_count": null,
      "outputs": []
    }
  ]
}